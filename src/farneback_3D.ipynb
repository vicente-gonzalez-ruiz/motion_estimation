{
 "cells": [
  {
   "cell_type": "markdown",
   "metadata": {
    "editable": true,
    "slideshow": {
     "slide_type": ""
    },
    "tags": []
   },
   "source": [
    "[![Binder](https://mybinder.org/badge_logo.svg)](https://nbviewer.org/github/vicente-gonzalez-ruiz/motion_estimation/blob/main/src/motion_estimation/farneback_ME.ipynb)"
   ]
  },
  {
   "cell_type": "markdown",
   "metadata": {},
   "source": [
    "[![Colab](https://badgen.net/badge/Launch/on%20Google%20Colab/blue?icon=notebook)](https://colab.research.google.com/github/vicente-gonzalez-ruiz/motion_estimation/blob/main/src/motion_estimation/farneback_ME.ipynb)"
   ]
  },
  {
   "cell_type": "code",
   "execution_count": 1,
   "metadata": {},
   "outputs": [
    {
     "name": "stdout",
     "output_type": "stream",
     "text": [
      "/opt/tljh/user/bin/python\n"
     ]
    }
   ],
   "source": [
    "!which python"
   ]
  },
  {
   "cell_type": "markdown",
   "metadata": {},
   "source": [
    "# Testing 3D Farnebäck's optical flow estimator"
   ]
  },
  {
   "cell_type": "code",
   "execution_count": 2,
   "metadata": {},
   "outputs": [],
   "source": [
    "import logging"
   ]
  },
  {
   "cell_type": "code",
   "execution_count": 3,
   "metadata": {},
   "outputs": [],
   "source": [
    "try:\n",
    "    import scipy\n",
    "except:\n",
    "    !pip install scipy\n",
    "    import scipy"
   ]
  },
  {
   "cell_type": "code",
   "execution_count": 4,
   "metadata": {},
   "outputs": [],
   "source": [
    "try:\n",
    "    import skimage\n",
    "except:\n",
    "    !pip install scikit-image\n",
    "    import skimage"
   ]
  },
  {
   "cell_type": "code",
   "execution_count": 5,
   "metadata": {},
   "outputs": [],
   "source": [
    "try:\n",
    "    import numpy as np\n",
    "except:\n",
    "    !pip install numpy\n",
    "    import numpy as np"
   ]
  },
  {
   "cell_type": "code",
   "execution_count": 6,
   "metadata": {},
   "outputs": [],
   "source": [
    "try:\n",
    "    import matplotlib\n",
    "    import matplotlib.pyplot as plt\n",
    "    import matplotlib.axes as ax\n",
    "    import pylab\n",
    "except:\n",
    "    !pip install matplotlib\n",
    "    import matplotlib\n",
    "    import matplotlib.pyplot as plt\n",
    "    import matplotlib.axes as ax\n",
    "    import pylab\n",
    "  \n",
    "%matplotlib inline"
   ]
  },
  {
   "cell_type": "code",
   "execution_count": 15,
   "metadata": {},
   "outputs": [
    {
     "name": "stderr",
     "output_type": "stream",
     "text": [
      "/home/jupyter-vruiz/envs/OF3D/lib/python3.10/site-packages/cupy/_environment.py:487: UserWarning: \n",
      "--------------------------------------------------------------------------------\n",
      "\n",
      "  CuPy may not function correctly because multiple CuPy packages are installed\n",
      "  in your environment:\n",
      "\n",
      "    cupy, cupy-cuda12x\n",
      "\n",
      "  Follow these steps to resolve this issue:\n",
      "\n",
      "    1. For all packages listed above, run the following command to remove all\n",
      "       existing CuPy installations:\n",
      "\n",
      "         $ pip uninstall <package_name>\n",
      "\n",
      "      If you previously installed CuPy via conda, also run the following:\n",
      "\n",
      "         $ conda uninstall cupy\n",
      "\n",
      "    2. Install the appropriate CuPy package.\n",
      "       Refer to the Installation Guide for detailed instructions.\n",
      "\n",
      "         https://docs.cupy.dev/en/stable/install.html\n",
      "\n",
      "--------------------------------------------------------------------------------\n",
      "\n",
      "  warnings.warn(f'''\n"
     ]
    },
    {
     "ename": "ImportError",
     "evalue": "cannot import name 'OF_Estimation' from 'motion_estimation._3D.farneback_opticalflow3d' (/home/jupyter-vruiz/repos/motion_estimation/src/motion_estimation/_3D/farneback_opticalflow3d.py)",
     "output_type": "error",
     "traceback": [
      "\u001b[0;31m---------------------------------------------------------------------------\u001b[0m",
      "\u001b[0;31mImportError\u001b[0m                               Traceback (most recent call last)",
      "Cell \u001b[0;32mIn[15], line 1\u001b[0m\n\u001b[0;32m----> 1\u001b[0m \u001b[38;5;28;01mfrom\u001b[39;00m \u001b[38;5;21;01mmotion_estimation\u001b[39;00m\u001b[38;5;21;01m.\u001b[39;00m\u001b[38;5;21;01m_3D\u001b[39;00m\u001b[38;5;21;01m.\u001b[39;00m\u001b[38;5;21;01mfarneback_opticalflow3d\u001b[39;00m \u001b[38;5;28;01mimport\u001b[39;00m OF_Estimation\n\u001b[1;32m      2\u001b[0m \u001b[38;5;28;01mfrom\u001b[39;00m \u001b[38;5;21;01mmotion_estimation\u001b[39;00m\u001b[38;5;21;01m.\u001b[39;00m\u001b[38;5;21;01m_3D\u001b[39;00m\u001b[38;5;21;01m.\u001b[39;00m\u001b[38;5;21;01mproject_opticalflow3d\u001b[39;00m \u001b[38;5;28;01mimport\u001b[39;00m Projection\n",
      "\u001b[0;31mImportError\u001b[0m: cannot import name 'OF_Estimation' from 'motion_estimation._3D.farneback_opticalflow3d' (/home/jupyter-vruiz/repos/motion_estimation/src/motion_estimation/_3D/farneback_opticalflow3d.py)"
     ]
    }
   ],
   "source": [
    "from motion_estimation._3D.farneback_opticalflow3d import OF_Estimation\n",
    "from motion_estimation._3D.project_opticalflow3d import Projection"
   ]
  },
  {
   "cell_type": "code",
   "execution_count": null,
   "metadata": {},
   "outputs": [],
   "source": [
    "#from motion_estimation._3D.farneback import OF_Estimation\n",
    "#from motion_estimation._3D.project import Projection"
   ]
  },
  {
   "cell_type": "code",
   "execution_count": 8,
   "metadata": {
    "editable": true,
    "slideshow": {
     "slide_type": ""
    },
    "tags": []
   },
   "outputs": [],
   "source": [
    "from skimage import io as skimage_io"
   ]
  },
  {
   "cell_type": "code",
   "execution_count": 9,
   "metadata": {},
   "outputs": [],
   "source": [
    "#img = skimage_io.imread(\"http://www.hpca.ual.es/~vruiz/images/barb.png\")"
   ]
  },
  {
   "cell_type": "code",
   "execution_count": 10,
   "metadata": {},
   "outputs": [],
   "source": [
    "#plt.imshow(img, cmap=\"gray\")"
   ]
  },
  {
   "cell_type": "markdown",
   "metadata": {},
   "source": [
    "### The flow between two volumes that are identical should be zero."
   ]
  },
  {
   "cell_type": "code",
   "execution_count": 11,
   "metadata": {},
   "outputs": [],
   "source": [
    "N = 10"
   ]
  },
  {
   "cell_type": "code",
   "execution_count": 12,
   "metadata": {},
   "outputs": [
    {
     "name": "stdout",
     "output_type": "stream",
     "text": [
      "(10, 10, 10)\n"
     ]
    }
   ],
   "source": [
    "# Define the 1D Gaussian sampling\n",
    "x = np.linspace(-5, 5, N)  # 1D array, change range and number of points as needed\n",
    "sigma = 1.0\n",
    "mu = 0.0\n",
    "gaussian_1d = np.exp(-(x - mu)**2 / (2 * sigma**2))\n",
    "\n",
    "# Create a 3D meshgrid\n",
    "X, Y, Z = np.meshgrid(x, x, x, indexing='ij')\n",
    "\n",
    "# Compute the 3D Gaussian function\n",
    "sigma_3d = 1.0\n",
    "mu_3d = 0.0\n",
    "vol = np.exp(-((X - mu_3d)**2 + (Y - mu_3d)**2 + (Z - mu_3d)**2) / (2 * sigma_3d**2))\n",
    "\n",
    "# Alternatively, if you want to use the 1D sampled Gaussian array in each dimension:\n",
    "# This creates a 3D array by multiplying the 1D Gaussian arrays in each dimension\n",
    "#gaussian_3d = gaussian_1d[:, None, None] * gaussian_1d[None, :, None] * gaussian_1d[None, None, :]\n",
    "\n",
    "print(vol.shape)  # Should be (100, 100, 100)"
   ]
  },
  {
   "cell_type": "code",
   "execution_count": 13,
   "metadata": {},
   "outputs": [],
   "source": [
    "estimator = OF_Estimation(logging_level=logging.DEBUG)"
   ]
  },
  {
   "cell_type": "code",
   "execution_count": 14,
   "metadata": {},
   "outputs": [
    {
     "name": "stdout",
     "output_type": "stream",
     "text": [
      "\n",
      "Function: pyramid_get_flow\n",
      "self: <motion_estimation._3D.farneback.OF_Estimation object at 0x7f021aafe140>\n",
      "target.shape: (10, 10, 10) 5.175555005801869e-17 0.01148145757293763 0.6294159437780916\n",
      "reference.shape: (10, 10, 10) 5.175555005801869e-17 0.01148145757293763 0.6294159437780916\n",
      "flow: None\n",
      "pyramid_levels: 3\n",
      "down_scale: 2\n",
      "window_side: 5\n",
      "iterations: 7\n",
      "N_poly: 7\n",
      "model: constant\n",
      "mu: None\n",
      "\n",
      "Function: get_pyramid\n",
      "self: <motion_estimation._3D.farneback.OF_Estimation object at 0x7f021aafe140>\n",
      "volume.shape: (10, 10, 10) 5.175555005801869e-17 0.01148145757293763 0.6294159437780916\n",
      "num_levels: 3\n",
      "down_scale: 2\n",
      "\n",
      "Function: get_pyramid\n",
      "self: <motion_estimation._3D.farneback.OF_Estimation object at 0x7f021aafe140>\n",
      "volume.shape: (10, 10, 10) 5.175555005801869e-17 0.01148145757293763 0.6294159437780916\n",
      "num_levels: 3\n",
      "down_scale: 2\n",
      "\n",
      "Function: get_pyramid\n",
      "self: <motion_estimation._3D.farneback.OF_Estimation object at 0x7f021aafe140>\n",
      "volume.shape: (10, 10, 10) 0.0 0.16 0.8\n",
      "num_levels: 3\n",
      "down_scale: 2\n",
      "\n",
      "Function: get_pyramid\n",
      "self: <motion_estimation._3D.farneback.OF_Estimation object at 0x7f021aafe140>\n",
      "volume.shape: (10, 10, 10) 0.0 0.16 0.8\n",
      "num_levels: 3\n",
      "down_scale: 2\n",
      "\n",
      "Function: get_flow_iteration\n",
      "self: <motion_estimation._3D.farneback.OF_Estimation object at 0x7f021aafe140>\n",
      "f1.shape: (2, 2, 2) 0.0016480036872382178 0.0027637894492583822 0.004295183806534881\n",
      "f2.shape: (2, 2, 2) 0.0016480036872382178 0.0027637894492583822 0.004295183806534881\n",
      "c1.shape: (2, 2, 2) 0.0337359476936788 0.08049922685954197 0.1587827627016632\n",
      "c2.shape: (2, 2, 2) 0.0337359476936788 0.08049922685954197 0.1587827627016632\n",
      "flow: None\n",
      "N_poly: 7\n",
      "window_side: 5\n",
      "iterations: 7\n",
      "model: constant\n",
      "mu: 0\n",
      "\n",
      "Function: flow_iterative\n",
      "self: <motion_estimation._3D.farneback.OF_Estimation object at 0x7f021aafe140>\n",
      "f1.shape: (2, 2, 2) 0.0016480036872382178 0.0027637894492583822 0.004295183806534881\n",
      "f2.shape: (2, 2, 2) 0.0016480036872382178 0.0027637894492583822 0.004295183806534881\n",
      "c1.shape: (2, 2, 2) 0.0337359476936788 0.08049922685954197 0.1587827627016632\n",
      "c2.shape: (2, 2, 2) 0.0337359476936788 0.08049922685954197 0.1587827627016632\n",
      "flow: None\n",
      "sigma: 1.5\n",
      "sigma_flow: 1.0\n",
      "iterations: 7\n",
      "model: constant\n",
      "mu: 0\n",
      "\n",
      "Function: poly_expand\n",
      "self: <motion_estimation._3D.farneback.OF_Estimation object at 0x7f021aafe140>\n",
      "f.shape: (2, 2, 2) 0.0016480036872382178 0.0027637894492583822 0.004295183806534881\n",
      "c.shape: (2, 2, 2) 0.0337359476936788 0.08049922685954197 0.1587827627016632\n",
      "sigma: 1.5\n",
      "G.shape (2, 2, 2, 10, 10)\n",
      "v.shape (2, 2, 2, 10)\n"
     ]
    },
    {
     "ename": "ValueError",
     "evalue": "cannot reshape array of size 4000 into shape (2,2,2,10)",
     "output_type": "error",
     "traceback": [
      "\u001b[0;31m---------------------------------------------------------------------------\u001b[0m",
      "\u001b[0;31mLinAlgError\u001b[0m                               Traceback (most recent call last)",
      "File \u001b[0;32m~/repos/motion_estimation/src/motion_estimation/_3D/polinomial_expansion.py:130\u001b[0m, in \u001b[0;36mPolinomial_Expansion.poly_expand\u001b[0;34m(self, f, c, sigma)\u001b[0m\n\u001b[1;32m    129\u001b[0m \u001b[38;5;28;01mtry\u001b[39;00m:\n\u001b[0;32m--> 130\u001b[0m     r \u001b[38;5;241m=\u001b[39m \u001b[43mnp\u001b[49m\u001b[38;5;241;43m.\u001b[39;49m\u001b[43mlinalg\u001b[49m\u001b[38;5;241;43m.\u001b[39;49m\u001b[43msolve\u001b[49m\u001b[43m(\u001b[49m\u001b[43mG\u001b[49m\u001b[43m,\u001b[49m\u001b[43m \u001b[49m\u001b[43mv\u001b[49m\u001b[43m)\u001b[49m\n\u001b[1;32m    131\u001b[0m \u001b[38;5;28;01mexcept\u001b[39;00m np\u001b[38;5;241m.\u001b[39mlinalg\u001b[38;5;241m.\u001b[39mLinAlgError:\n",
      "File \u001b[0;32m<__array_function__ internals>:200\u001b[0m, in \u001b[0;36msolve\u001b[0;34m(*args, **kwargs)\u001b[0m\n",
      "File \u001b[0;32m~/envs/OF3D/lib/python3.10/site-packages/numpy/linalg/linalg.py:386\u001b[0m, in \u001b[0;36msolve\u001b[0;34m(a, b)\u001b[0m\n\u001b[1;32m    385\u001b[0m extobj \u001b[38;5;241m=\u001b[39m get_linalg_error_extobj(_raise_linalgerror_singular)\n\u001b[0;32m--> 386\u001b[0m r \u001b[38;5;241m=\u001b[39m \u001b[43mgufunc\u001b[49m\u001b[43m(\u001b[49m\u001b[43ma\u001b[49m\u001b[43m,\u001b[49m\u001b[43m \u001b[49m\u001b[43mb\u001b[49m\u001b[43m,\u001b[49m\u001b[43m \u001b[49m\u001b[43msignature\u001b[49m\u001b[38;5;241;43m=\u001b[39;49m\u001b[43msignature\u001b[49m\u001b[43m,\u001b[49m\u001b[43m \u001b[49m\u001b[43mextobj\u001b[49m\u001b[38;5;241;43m=\u001b[39;49m\u001b[43mextobj\u001b[49m\u001b[43m)\u001b[49m\n\u001b[1;32m    388\u001b[0m \u001b[38;5;28;01mreturn\u001b[39;00m wrap(r\u001b[38;5;241m.\u001b[39mastype(result_t, copy\u001b[38;5;241m=\u001b[39m\u001b[38;5;28;01mFalse\u001b[39;00m))\n",
      "File \u001b[0;32m~/envs/OF3D/lib/python3.10/site-packages/numpy/linalg/linalg.py:89\u001b[0m, in \u001b[0;36m_raise_linalgerror_singular\u001b[0;34m(err, flag)\u001b[0m\n\u001b[1;32m     88\u001b[0m \u001b[38;5;28;01mdef\u001b[39;00m \u001b[38;5;21m_raise_linalgerror_singular\u001b[39m(err, flag):\n\u001b[0;32m---> 89\u001b[0m     \u001b[38;5;28;01mraise\u001b[39;00m LinAlgError(\u001b[38;5;124m\"\u001b[39m\u001b[38;5;124mSingular matrix\u001b[39m\u001b[38;5;124m\"\u001b[39m)\n",
      "\u001b[0;31mLinAlgError\u001b[0m: Singular matrix",
      "\nDuring handling of the above exception, another exception occurred:\n",
      "\u001b[0;31mValueError\u001b[0m                                Traceback (most recent call last)",
      "Cell \u001b[0;32mIn[14], line 1\u001b[0m\n\u001b[0;32m----> 1\u001b[0m flow \u001b[38;5;241m=\u001b[39m \u001b[43mestimator\u001b[49m\u001b[38;5;241;43m.\u001b[39;49m\u001b[43mpyramid_get_flow\u001b[49m\u001b[43m(\u001b[49m\u001b[43mtarget\u001b[49m\u001b[38;5;241;43m=\u001b[39;49m\u001b[43mvol\u001b[49m\u001b[43m,\u001b[49m\u001b[43m \u001b[49m\u001b[43mreference\u001b[49m\u001b[38;5;241;43m=\u001b[39;49m\u001b[43mvol\u001b[49m\u001b[43m)\u001b[49m\n",
      "File \u001b[0;32m~/repos/motion_estimation/src/motion_estimation/_3D/farneback.py:378\u001b[0m, in \u001b[0;36mOF_Estimation.pyramid_get_flow\u001b[0;34m(self, target, reference, flow, pyramid_levels, down_scale, window_side, iterations, N_poly, model, mu)\u001b[0m\n\u001b[1;32m    374\u001b[0m         flow[\u001b[38;5;241m.\u001b[39m\u001b[38;5;241m.\u001b[39m\u001b[38;5;241m.\u001b[39m, \u001b[38;5;241m2\u001b[39m] \u001b[38;5;241m=\u001b[39m expanded_X_flow\n\u001b[1;32m    375\u001b[0m         \u001b[38;5;66;03m#flow = self.expand_level(flow)\u001b[39;00m\n\u001b[1;32m    376\u001b[0m         \u001b[38;5;66;03m#flow = flow[: pyr1.shape[0], : pyr1.shape[1], : pyr1.shape[2]]\u001b[39;00m\n\u001b[0;32m--> 378\u001b[0m     flow \u001b[38;5;241m=\u001b[39m \u001b[38;5;28;43mself\u001b[39;49m\u001b[38;5;241;43m.\u001b[39;49m\u001b[43mget_flow_iteration\u001b[49m\u001b[43m(\u001b[49m\n\u001b[1;32m    379\u001b[0m \u001b[43m        \u001b[49m\u001b[43mf1\u001b[49m\u001b[38;5;241;43m=\u001b[39;49m\u001b[43mpyr1\u001b[49m\u001b[43m,\u001b[49m\u001b[43m \u001b[49m\u001b[43mf2\u001b[49m\u001b[38;5;241;43m=\u001b[39;49m\u001b[43mpyr2\u001b[49m\u001b[43m,\u001b[49m\u001b[43m \u001b[49m\u001b[43mc1\u001b[49m\u001b[38;5;241;43m=\u001b[39;49m\u001b[43mc1_\u001b[49m\u001b[43m,\u001b[49m\u001b[43m \u001b[49m\u001b[43mc2\u001b[49m\u001b[38;5;241;43m=\u001b[39;49m\u001b[43mc2_\u001b[49m\u001b[43m,\u001b[49m\n\u001b[1;32m    380\u001b[0m \u001b[43m        \u001b[49m\u001b[43mflow\u001b[49m\u001b[38;5;241;43m=\u001b[39;49m\u001b[43mflow\u001b[49m\u001b[43m,\u001b[49m\n\u001b[1;32m    381\u001b[0m \u001b[43m        \u001b[49m\u001b[43mN_poly\u001b[49m\u001b[38;5;241;43m=\u001b[39;49m\u001b[43mN_poly\u001b[49m\u001b[43m,\u001b[49m\n\u001b[1;32m    382\u001b[0m \u001b[43m        \u001b[49m\u001b[43mwindow_side\u001b[49m\u001b[38;5;241;43m=\u001b[39;49m\u001b[43mwindow_side\u001b[49m\u001b[43m,\u001b[49m\n\u001b[1;32m    383\u001b[0m \u001b[43m        \u001b[49m\u001b[43miterations\u001b[49m\u001b[38;5;241;43m=\u001b[39;49m\u001b[43miterations\u001b[49m\u001b[43m,\u001b[49m\n\u001b[1;32m    384\u001b[0m \u001b[43m        \u001b[49m\u001b[38;5;241;43m*\u001b[39;49m\u001b[38;5;241;43m*\u001b[39;49m\u001b[43mopts\u001b[49m\u001b[43m)\u001b[49m\n\u001b[1;32m    386\u001b[0m \u001b[38;5;66;03m#xw = d + np.moveaxis(np.indices(target.shape), 0, -1)\u001b[39;00m\n\u001b[1;32m    387\u001b[0m \u001b[38;5;66;03m#return xw\u001b[39;00m\n\u001b[1;32m    388\u001b[0m \u001b[38;5;28;01mreturn\u001b[39;00m flow[\u001b[38;5;241m.\u001b[39m\u001b[38;5;241m.\u001b[39m\u001b[38;5;241m.\u001b[39m, [\u001b[38;5;241m2\u001b[39m, \u001b[38;5;241m1\u001b[39m, \u001b[38;5;241m0\u001b[39m]]\n",
      "File \u001b[0;32m~/repos/motion_estimation/src/motion_estimation/_3D/farneback.py:259\u001b[0m, in \u001b[0;36mOF_Estimation.get_flow_iteration\u001b[0;34m(self, f1, f2, c1, c2, flow, N_poly, window_side, iterations, model, mu)\u001b[0m\n\u001b[1;32m    257\u001b[0m sigma \u001b[38;5;241m=\u001b[39m (N_poly \u001b[38;5;241m-\u001b[39m \u001b[38;5;241m1\u001b[39m)\u001b[38;5;241m/\u001b[39m\u001b[38;5;241m4\u001b[39m\n\u001b[1;32m    258\u001b[0m sigma_flow \u001b[38;5;241m=\u001b[39m (window_side \u001b[38;5;241m-\u001b[39m \u001b[38;5;241m1\u001b[39m)\u001b[38;5;241m/\u001b[39m\u001b[38;5;241m4\u001b[39m\n\u001b[0;32m--> 259\u001b[0m \u001b[38;5;28;01mreturn\u001b[39;00m \u001b[38;5;28;43mself\u001b[39;49m\u001b[38;5;241;43m.\u001b[39;49m\u001b[43mflow_iterative\u001b[49m\u001b[43m(\u001b[49m\n\u001b[1;32m    260\u001b[0m \u001b[43m    \u001b[49m\u001b[43mf1\u001b[49m\u001b[38;5;241;43m=\u001b[39;49m\u001b[43mf1\u001b[49m\u001b[43m,\u001b[49m\u001b[43m \u001b[49m\u001b[43mf2\u001b[49m\u001b[38;5;241;43m=\u001b[39;49m\u001b[43mf2\u001b[49m\u001b[43m,\u001b[49m\u001b[43m \u001b[49m\u001b[43mc1\u001b[49m\u001b[38;5;241;43m=\u001b[39;49m\u001b[43mc1\u001b[49m\u001b[43m,\u001b[49m\u001b[43m \u001b[49m\u001b[43mc2\u001b[49m\u001b[38;5;241;43m=\u001b[39;49m\u001b[43mc2\u001b[49m\u001b[43m,\u001b[49m\n\u001b[1;32m    261\u001b[0m \u001b[43m    \u001b[49m\u001b[43mflow\u001b[49m\u001b[38;5;241;43m=\u001b[39;49m\u001b[43mflow\u001b[49m\u001b[43m,\u001b[49m\u001b[43m \u001b[49m\u001b[43msigma\u001b[49m\u001b[38;5;241;43m=\u001b[39;49m\u001b[43msigma\u001b[49m\u001b[43m,\u001b[49m\u001b[43m \u001b[49m\u001b[43msigma_flow\u001b[49m\u001b[38;5;241;43m=\u001b[39;49m\u001b[43msigma_flow\u001b[49m\u001b[43m,\u001b[49m\n\u001b[1;32m    262\u001b[0m \u001b[43m    \u001b[49m\u001b[43miterations\u001b[49m\u001b[38;5;241;43m=\u001b[39;49m\u001b[43miterations\u001b[49m\u001b[43m,\u001b[49m\n\u001b[1;32m    263\u001b[0m \u001b[43m    \u001b[49m\u001b[43mmodel\u001b[49m\u001b[38;5;241;43m=\u001b[39;49m\u001b[43mmodel\u001b[49m\u001b[43m,\u001b[49m\n\u001b[1;32m    264\u001b[0m \u001b[43m    \u001b[49m\u001b[43mmu\u001b[49m\u001b[38;5;241;43m=\u001b[39;49m\u001b[43mmu\u001b[49m\u001b[43m)\u001b[49m\n",
      "File \u001b[0;32m~/repos/motion_estimation/src/motion_estimation/_3D/farneback.py:87\u001b[0m, in \u001b[0;36mOF_Estimation.flow_iterative\u001b[0;34m(self, f1, f2, c1, c2, flow, sigma, sigma_flow, iterations, model, mu)\u001b[0m\n\u001b[1;32m     82\u001b[0m             \u001b[38;5;28mprint\u001b[39m(\u001b[38;5;124mf\u001b[39m\u001b[38;5;124m\"\u001b[39m\u001b[38;5;132;01m{\u001b[39;00marg\u001b[38;5;132;01m}\u001b[39;00m\u001b[38;5;124m: \u001b[39m\u001b[38;5;132;01m{\u001b[39;00mvalues[arg]\u001b[38;5;132;01m}\u001b[39;00m\u001b[38;5;124m\"\u001b[39m)\n\u001b[1;32m     84\u001b[0m \u001b[38;5;66;03m# TODO: add initial warp parameters as optional input?\u001b[39;00m\n\u001b[1;32m     85\u001b[0m \n\u001b[1;32m     86\u001b[0m \u001b[38;5;66;03m# Calculate the polynomial expansion at each volxel in the volumes\u001b[39;00m\n\u001b[0;32m---> 87\u001b[0m A1, B1, C1 \u001b[38;5;241m=\u001b[39m \u001b[38;5;28;43mself\u001b[39;49m\u001b[38;5;241;43m.\u001b[39;49m\u001b[43mpoly_expand\u001b[49m\u001b[43m(\u001b[49m\u001b[43mf1\u001b[49m\u001b[43m,\u001b[49m\u001b[43m \u001b[49m\u001b[43mc1\u001b[49m\u001b[43m,\u001b[49m\u001b[43m \u001b[49m\u001b[43msigma\u001b[49m\u001b[43m)\u001b[49m\n\u001b[1;32m     88\u001b[0m A2, B2, C2 \u001b[38;5;241m=\u001b[39m \u001b[38;5;28mself\u001b[39m\u001b[38;5;241m.\u001b[39mpoly_expand(f2, c2, sigma)\n\u001b[1;32m     90\u001b[0m \u001b[38;5;66;03m# Voxel coordinates of each point in the vols\u001b[39;00m\n",
      "File \u001b[0;32m~/repos/motion_estimation/src/motion_estimation/_3D/polinomial_expansion.py:135\u001b[0m, in \u001b[0;36mPolinomial_Expansion.poly_expand\u001b[0;34m(self, f, c, sigma)\u001b[0m\n\u001b[1;32m    133\u001b[0m     _v \u001b[38;5;241m=\u001b[39m v\u001b[38;5;241m.\u001b[39mreshape(v\u001b[38;5;241m.\u001b[39mshape[\u001b[38;5;241m0\u001b[39m] \u001b[38;5;241m*\u001b[39m v\u001b[38;5;241m.\u001b[39mshape[\u001b[38;5;241m1\u001b[39m], v\u001b[38;5;241m.\u001b[39mshape[\u001b[38;5;241m2\u001b[39m] \u001b[38;5;241m*\u001b[39m v\u001b[38;5;241m.\u001b[39mshape[\u001b[38;5;241m3\u001b[39m])\n\u001b[1;32m    134\u001b[0m     _r \u001b[38;5;241m=\u001b[39m np\u001b[38;5;241m.\u001b[39mlinalg\u001b[38;5;241m.\u001b[39mlstsq(_G, _v, rcond\u001b[38;5;241m=\u001b[39m\u001b[38;5;28;01mNone\u001b[39;00m)[\u001b[38;5;241m0\u001b[39m]\n\u001b[0;32m--> 135\u001b[0m     r \u001b[38;5;241m=\u001b[39m \u001b[43m_r\u001b[49m\u001b[38;5;241;43m.\u001b[39;49m\u001b[43mreshape\u001b[49m\u001b[43m(\u001b[49m\u001b[38;5;28;43mlist\u001b[39;49m\u001b[43m(\u001b[49m\u001b[43mf\u001b[49m\u001b[38;5;241;43m.\u001b[39;49m\u001b[43mshape\u001b[49m\u001b[43m)\u001b[49m\u001b[43m \u001b[49m\u001b[38;5;241;43m+\u001b[39;49m\u001b[43m \u001b[49m\u001b[43m[\u001b[49m\u001b[38;5;241;43m10\u001b[39;49m\u001b[43m]\u001b[49m\u001b[43m)\u001b[49m\n\u001b[1;32m    137\u001b[0m \u001b[38;5;66;03m# Basis (see eq. 4.2 of the thesis):\u001b[39;00m\n\u001b[1;32m    138\u001b[0m \u001b[38;5;66;03m# 1 x 1 1 x^2   1   1  x  x  1\u001b[39;00m\n\u001b[1;32m    139\u001b[0m \u001b[38;5;66;03m# 1 1 y 1   1 y^2   1  y  1  y\u001b[39;00m\n\u001b[0;32m   (...)\u001b[0m\n\u001b[1;32m    163\u001b[0m \n\u001b[1;32m    164\u001b[0m \u001b[38;5;66;03m# Quadratic term\u001b[39;00m\n\u001b[1;32m    165\u001b[0m A \u001b[38;5;241m=\u001b[39m np\u001b[38;5;241m.\u001b[39mempty(\u001b[38;5;28mlist\u001b[39m(f\u001b[38;5;241m.\u001b[39mshape) \u001b[38;5;241m+\u001b[39m [\u001b[38;5;241m3\u001b[39m, \u001b[38;5;241m3\u001b[39m])\n",
      "\u001b[0;31mValueError\u001b[0m: cannot reshape array of size 4000 into shape (2,2,2,10)"
     ]
    }
   ],
   "source": [
    "flow = estimator.pyramid_get_flow(target=vol, reference=vol)"
   ]
  },
  {
   "cell_type": "code",
   "execution_count": null,
   "metadata": {},
   "outputs": [],
   "source": [
    "print(np.max(flow))"
   ]
  },
  {
   "cell_type": "code",
   "execution_count": null,
   "metadata": {},
   "outputs": [],
   "source": []
  }
 ],
 "metadata": {
  "kernelspec": {
   "display_name": "Python (OF3D)",
   "language": "python",
   "name": "of3d"
  },
  "language_info": {
   "codemirror_mode": {
    "name": "ipython",
    "version": 3
   },
   "file_extension": ".py",
   "mimetype": "text/x-python",
   "name": "python",
   "nbconvert_exporter": "python",
   "pygments_lexer": "ipython3",
   "version": "3.10.10"
  }
 },
 "nbformat": 4,
 "nbformat_minor": 4
}
