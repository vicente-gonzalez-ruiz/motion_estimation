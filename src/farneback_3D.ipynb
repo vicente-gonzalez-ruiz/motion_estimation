{
 "cells": [
  {
   "cell_type": "markdown",
   "metadata": {
    "editable": true,
    "slideshow": {
     "slide_type": ""
    },
    "tags": []
   },
   "source": [
    "[![Binder](https://mybinder.org/badge_logo.svg)](https://nbviewer.org/github/vicente-gonzalez-ruiz/motion_estimation/blob/main/src/motion_estimation/farneback_ME.ipynb)"
   ]
  },
  {
   "cell_type": "markdown",
   "metadata": {},
   "source": [
    "[![Colab](https://badgen.net/badge/Launch/on%20Google%20Colab/blue?icon=notebook)](https://colab.research.google.com/github/vicente-gonzalez-ruiz/motion_estimation/blob/main/src/motion_estimation/farneback_ME.ipynb)"
   ]
  },
  {
   "cell_type": "markdown",
   "metadata": {},
   "source": [
    "# Testing 3D Farnebäck's optical flow estimator"
   ]
  },
  {
   "cell_type": "markdown",
   "metadata": {},
   "source": [
    "### The flow between two volumes that are identical should be zero."
   ]
  },
  {
   "cell_type": "code",
   "execution_count": 1,
   "metadata": {},
   "outputs": [],
   "source": [
    "import numpy as np"
   ]
  },
  {
   "cell_type": "code",
   "execution_count": 2,
   "metadata": {},
   "outputs": [],
   "source": [
    "N = 10"
   ]
  },
  {
   "cell_type": "code",
   "execution_count": 3,
   "metadata": {},
   "outputs": [
    {
     "name": "stdout",
     "output_type": "stream",
     "text": [
      "(10, 10, 10)\n"
     ]
    }
   ],
   "source": [
    "# Define the 1D Gaussian sampling\n",
    "x = np.linspace(-5, 5, N)  # 1D array, change range and number of points as needed\n",
    "sigma = 1.0\n",
    "mu = 0.0\n",
    "gaussian_1d = np.exp(-(x - mu)**2 / (2 * sigma**2))\n",
    "\n",
    "# Create a 3D meshgrid\n",
    "X, Y, Z = np.meshgrid(x, x, x, indexing='ij')\n",
    "\n",
    "# Compute the 3D Gaussian function\n",
    "sigma_3d = 1.0\n",
    "mu_3d = 0.0\n",
    "vol = np.exp(-((X - mu_3d)**2 + (Y - mu_3d)**2 + (Z - mu_3d)**2) / (2 * sigma_3d**2))\n",
    "\n",
    "# Alternatively, if you want to use the 1D sampled Gaussian array in each dimension:\n",
    "# This creates a 3D array by multiplying the 1D Gaussian arrays in each dimension\n",
    "#gaussian_3d = gaussian_1d[:, None, None] * gaussian_1d[None, :, None] * gaussian_1d[None, None, :]\n",
    "\n",
    "print(vol.shape)  # Should be (100, 100, 100)"
   ]
  },
  {
   "cell_type": "code",
   "execution_count": 4,
   "metadata": {},
   "outputs": [],
   "source": [
    "#%pip install \"optical_flow_3D @ git+https://github.com/vicente-gonzalez-ruiz/optical_flow_3D\""
   ]
  },
  {
   "cell_type": "code",
   "execution_count": 5,
   "metadata": {},
   "outputs": [],
   "source": [
    "from motion_estimation._3D.farneback_optical_flow_3D import OF_Estimation"
   ]
  },
  {
   "cell_type": "code",
   "execution_count": 6,
   "metadata": {},
   "outputs": [],
   "source": [
    "import logging\n",
    "logging.basicConfig(format=\"[%(filename)s:%(lineno)s %(funcName)s()] %(message)s\")\n",
    "logger = logging.getLogger(__name__)\n",
    "logger.setLevel(logging.DEBUG)"
   ]
  },
  {
   "cell_type": "code",
   "execution_count": 7,
   "metadata": {},
   "outputs": [],
   "source": [
    "#estimator = OF_Estimation(logging_level=logging.DEBUG)\n",
    "estimator = OF_Estimation(logger)"
   ]
  },
  {
   "cell_type": "code",
   "execution_count": 8,
   "metadata": {},
   "outputs": [
    {
     "name": "stdout",
     "output_type": "stream",
     "text": [
      "\n",
      "Function: pyramid_get_flow\n",
      "self: <motion_estimation._3D.farneback_optical_flow_3D.OF_Estimation object at 0x7ad75c062b00>\n",
      "target.shape: (10, 10, 10) 5.175555005801869e-17 0.01148145757293763 0.6294159437780916\n",
      "reference.shape: (10, 10, 10) 5.175555005801869e-17 0.01148145757293763 0.6294159437780916\n",
      "pyramid_levels: 3\n",
      "gauss_size: 9\n",
      "iterations: 5\n",
      "sigma_k: 0.15\n",
      "filter_type: box\n",
      "filter_size: 21\n",
      "presmoothing: None\n",
      "Running 3D Farneback optical flow with the following parameters:\n",
      "Iters: 5 | Levels: 3 | Scale: 0.5 | Kernel: 9 | Filter: box-21 | Presmoothing: None\n"
     ]
    }
   ],
   "source": [
    "flow = estimator.pyramid_get_flow(target=vol, reference=vol)"
   ]
  },
  {
   "cell_type": "code",
   "execution_count": 9,
   "metadata": {},
   "outputs": [
    {
     "name": "stdout",
     "output_type": "stream",
     "text": [
      "-0.00016253065\n"
     ]
    }
   ],
   "source": [
    "print(np.max(flow))"
   ]
  },
  {
   "cell_type": "code",
   "execution_count": null,
   "metadata": {},
   "outputs": [],
   "source": []
  }
 ],
 "metadata": {
  "kernelspec": {
   "display_name": "OF3D_CUDA",
   "language": "python",
   "name": "of3d_cuda"
  },
  "language_info": {
   "codemirror_mode": {
    "name": "ipython",
    "version": 3
   },
   "file_extension": ".py",
   "mimetype": "text/x-python",
   "name": "python",
   "nbconvert_exporter": "python",
   "pygments_lexer": "ipython3",
   "version": "3.10.10"
  }
 },
 "nbformat": 4,
 "nbformat_minor": 4
}
