{
 "cells": [
  {
   "cell_type": "markdown",
   "id": "5523f111-ba78-405a-a874-0436c5632ba1",
   "metadata": {},
   "source": [
    "# Test of the 3D pyramid Gaussian"
   ]
  },
  {
   "cell_type": "code",
   "execution_count": null,
   "id": "d7162aab-6d13-4f67-b585-78160df25a1d",
   "metadata": {},
   "outputs": [],
   "source": [
    "import numpy as np\n",
    "from scipy.stats import norm\n",
    "import matplotlib.pyplot as plt"
   ]
  },
  {
   "cell_type": "code",
   "execution_count": null,
   "id": "89d479ad-b530-4763-9129-559d13674583",
   "metadata": {},
   "outputs": [],
   "source": [
    "#import motion_estimation._1D.pyramid_gaussian as pyramid\n",
    "from motion_estimation._3D.pyramid_gaussian import Gaussian_Pyramid"
   ]
  },
  {
   "cell_type": "code",
   "execution_count": null,
   "id": "22a0e626-2ca0-44ca-983b-318550a13b3c",
   "metadata": {},
   "outputs": [],
   "source": [
    "# Define the 1D Gaussian sampling\n",
    "x = np.linspace(-5, 5, 100)  # 1D array, change range and number of points as needed\n",
    "sigma = 1.0\n",
    "mu = 0.0\n",
    "gaussian_1d = np.exp(-(x - mu)**2 / (2 * sigma**2))\n",
    "\n",
    "# Create a 3D meshgrid\n",
    "X, Y, Z = np.meshgrid(x, x, x, indexing='ij')\n",
    "\n",
    "# Compute the 3D Gaussian function\n",
    "sigma_3d = 1.0\n",
    "mu_3d = 0.0\n",
    "gaussian_3d = np.exp(-((X - mu_3d)**2 + (Y - mu_3d)**2 + (Z - mu_3d)**2) / (2 * sigma_3d**2))\n",
    "\n",
    "# Alternatively, if you want to use the 1D sampled Gaussian array in each dimension:\n",
    "# This creates a 3D array by multiplying the 1D Gaussian arrays in each dimension\n",
    "#gaussian_3d = gaussian_1d[:, None, None] * gaussian_1d[None, :, None] * gaussian_1d[None, None, :]\n",
    "\n",
    "print(gaussian_3d.shape)  # Should be (100, 100, 100)"
   ]
  },
  {
   "cell_type": "markdown",
   "id": "c4e53f90-8788-4780-b92a-238eca249769",
   "metadata": {},
   "source": [
    "def gaussian_1d(x, mean, std_dev):\n",
    "    return norm.pdf(x, loc=mean, scale=std_dev)\n",
    "\n",
    "# Example usage:\n",
    "mean = 0\n",
    "std_dev = 1\n",
    "x_values = np.linspace(-5, 5, 256)\n",
    "gaussian_values = gaussian_1d(x_values, mean, std_dev)"
   ]
  },
  {
   "cell_type": "code",
   "execution_count": null,
   "id": "6f22f22b-fe9d-4732-900d-89545b2e2db0",
   "metadata": {},
   "outputs": [],
   "source": [
    "plt.plot(gaussian_3d[50, 50, :])"
   ]
  },
  {
   "cell_type": "code",
   "execution_count": null,
   "id": "a73964b0-a9f9-4d75-b45e-44a466b88cd8",
   "metadata": {},
   "outputs": [],
   "source": [
    "plt.plot(gaussian_3d[:, 50, 50])"
   ]
  },
  {
   "cell_type": "code",
   "execution_count": null,
   "id": "ded0e0f2-e6d2-4b76-ac10-800627dbb91e",
   "metadata": {},
   "outputs": [],
   "source": [
    "plt.plot(gaussian_3d[50, 50, :])"
   ]
  },
  {
   "cell_type": "code",
   "execution_count": null,
   "id": "4d3b13f9-9c3c-490f-bcf5-91b21dfd204f",
   "metadata": {},
   "outputs": [],
   "source": [
    "p = []\n",
    "pyramider = Gaussian_Pyramid()\n",
    "for c,i in enumerate(tuple(pyramider.get_pyramid(volume=gaussian_3d, num_levels=4))):\n",
    "    print(i.shape)\n",
    "    p.append(i)\n",
    "    #plt.plot(i[x.shape[0]//2, x.shape[0]//2, :, label=f\"{c}\")\n",
    "    #plt.legend()"
   ]
  },
  {
   "cell_type": "code",
   "execution_count": null,
   "id": "95ddd7b6-14df-4bdf-88fd-568adc88a3df",
   "metadata": {},
   "outputs": [],
   "source": [
    "p[1].shape"
   ]
  },
  {
   "cell_type": "code",
   "execution_count": null,
   "id": "4222518d-c4a2-4795-8b12-3e2d4924230c",
   "metadata": {},
   "outputs": [],
   "source": [
    "plt.plot(p[1][25, 25, :])"
   ]
  },
  {
   "cell_type": "code",
   "execution_count": null,
   "id": "13346e70-4a10-4ff3-ae55-7c7ff7e4d6aa",
   "metadata": {},
   "outputs": [],
   "source": [
    "plt.plot(p[1][:, 25, 25])"
   ]
  },
  {
   "cell_type": "code",
   "execution_count": null,
   "id": "8fb440a8-7f46-41b1-95a1-67741fece38a",
   "metadata": {},
   "outputs": [],
   "source": [
    "plt.plot(p[1][25, :, 25])"
   ]
  },
  {
   "cell_type": "code",
   "execution_count": null,
   "id": "52d99342-0774-4f15-aa77-a1d47262b883",
   "metadata": {},
   "outputs": [],
   "source": [
    "x = pyramider.expand_level(p[1])"
   ]
  },
  {
   "cell_type": "code",
   "execution_count": null,
   "id": "1850d0d0-fdcf-4994-8488-7e737743b75e",
   "metadata": {},
   "outputs": [],
   "source": [
    "x.shape"
   ]
  },
  {
   "cell_type": "code",
   "execution_count": null,
   "id": "38d75e0b-f91a-4d1b-a24c-f03e2f785aee",
   "metadata": {},
   "outputs": [],
   "source": [
    "plt.plot(x[50, 50, :])"
   ]
  },
  {
   "cell_type": "code",
   "execution_count": null,
   "id": "f34546b2-c601-4642-9bda-812e88310efa",
   "metadata": {},
   "outputs": [],
   "source": [
    "plt.plot(x[50, :, 50])"
   ]
  },
  {
   "cell_type": "code",
   "execution_count": null,
   "id": "38f7ceb6-3b7b-4381-95a2-1616ab9f37fe",
   "metadata": {},
   "outputs": [],
   "source": [
    "plt.plot(x[:, 50, 50])"
   ]
  },
  {
   "cell_type": "code",
   "execution_count": null,
   "id": "62d93635-1077-4120-8e47-c285e838057b",
   "metadata": {},
   "outputs": [],
   "source": [
    "plt.plot(x[50])"
   ]
  },
  {
   "cell_type": "code",
   "execution_count": null,
   "id": "8cd80ac3-c517-4ccf-a0fd-331d5bfe45ab",
   "metadata": {},
   "outputs": [],
   "source": []
  }
 ],
 "metadata": {
  "kernelspec": {
   "display_name": "Python 3 (ipykernel)",
   "language": "python",
   "name": "python3"
  },
  "language_info": {
   "codemirror_mode": {
    "name": "ipython",
    "version": 3
   },
   "file_extension": ".py",
   "mimetype": "text/x-python",
   "name": "python",
   "nbconvert_exporter": "python",
   "pygments_lexer": "ipython3",
   "version": "3.10.10"
  }
 },
 "nbformat": 4,
 "nbformat_minor": 5
}
