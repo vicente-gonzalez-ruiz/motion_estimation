{
 "cells": [
  {
   "cell_type": "code",
   "execution_count": null,
   "metadata": {},
   "outputs": [],
   "source": [
    "# Warning: You must have LaTeX installed"
   ]
  },
  {
   "cell_type": "markdown",
   "metadata": {},
   "source": [
    "[![Binder](https://mybinder.org/badge_logo.svg)](https://nbviewer.org/github/vicente-gonzalez-ruiz/motion_estimation/blob/main/src/motion_estimation/farneback_ME.ipynb)"
   ]
  },
  {
   "cell_type": "markdown",
   "metadata": {},
   "source": [
    "[![Colab](https://badgen.net/badge/Launch/on%20Google%20Colab/blue?icon=notebook)](https://colab.research.google.com/github/vicente-gonzalez-ruiz/motion_estimation/blob/main/src/motion_estimation/farneback_ME.ipynb)"
   ]
  },
  {
   "cell_type": "markdown",
   "metadata": {},
   "source": [
    "# Farnebäck's motion estimation\n",
    "\n",
    "Farnebäck estimates the dense (1x1) optical flow (with subpixel accuracy) assuming that the frames are similar in texture and the motion is smooth. In general, this last requirement generates motion fields more visually coherent and smoother that in the case of block-based ME algorithms."
   ]
  },
  {
   "cell_type": "code",
   "execution_count": null,
   "metadata": {},
   "outputs": [],
   "source": [
    "try:\n",
    "    import google.colab\n",
    "    IN_COLAB = True\n",
    "except:\n",
    "    IN_COLAB = False\n",
    "\n",
    "if IN_COLAB:\n",
    "    !apt update\n",
    "    !apt install imagemagick\n",
    "    !apt install cm-super\n",
    "    !apt install dvipng\n",
    "    !apt install bc\n",
    "    !apt install texlive-latex-extra\n",
    "    !apt install texlive-fonts-recommended"
   ]
  },
  {
   "cell_type": "code",
   "execution_count": null,
   "metadata": {},
   "outputs": [],
   "source": [
    "!which python"
   ]
  },
  {
   "cell_type": "code",
   "execution_count": null,
   "metadata": {},
   "outputs": [],
   "source": [
    "!pip install --upgrade pip"
   ]
  },
  {
   "cell_type": "code",
   "execution_count": null,
   "metadata": {},
   "outputs": [],
   "source": [
    "try:\n",
    "    import numpy as np\n",
    "except:\n",
    "    !pip install numpy\n",
    "    import numpy as np"
   ]
  },
  {
   "cell_type": "code",
   "execution_count": null,
   "metadata": {},
   "outputs": [],
   "source": [
    "try:\n",
    "    import matplotlib\n",
    "    import matplotlib.pyplot as plt\n",
    "    import matplotlib.axes as ax\n",
    "    import pylab\n",
    "except:\n",
    "    !pip install matplotlib\n",
    "    import matplotlib\n",
    "    import matplotlib.pyplot as plt\n",
    "    import matplotlib.axes as ax\n",
    "    import pylab\n",
    "\n",
    "plt.rcParams[\"text.usetex\"] = True\n",
    "plt.rcParams[\"text.latex.preamble\"] = r\"\\usepackage{amsmath}\" #for \\text command\n",
    "   \n",
    "%matplotlib inline"
   ]
  },
  {
   "cell_type": "code",
   "execution_count": null,
   "metadata": {},
   "outputs": [],
   "source": [
    "try:\n",
    "    from color_transforms import YCoCg as YUV\n",
    "except:\n",
    "    !pip install \"color_transforms @ git+https://github.com/vicente-gonzalez-ruiz/color_transforms\"\n",
    "    from color_transforms import YCoCg as YUV"
   ]
  },
  {
   "cell_type": "code",
   "execution_count": null,
   "metadata": {},
   "outputs": [],
   "source": [
    "try:\n",
    "    from image_IO import image_1 as gray_image\n",
    "    from image_IO import image_3 as RGB_image\n",
    "except:\n",
    "    !pip install \"image_IO @ git+https://github.com/vicente-gonzalez-ruiz/image_IO\"\n",
    "    from image_IO import image_1 as gray_image\n",
    "    from image_IO import image_3 as RGB_image"
   ]
  },
  {
   "cell_type": "code",
   "execution_count": null,
   "metadata": {},
   "outputs": [],
   "source": [
    "try:\n",
    "    from information_theory import information\n",
    "    #from information_theory import distortion\n",
    "except:\n",
    "    !pip install \"information_theory @ git+https://github.com/vicente-gonzalez-ruiz/information_theory\"\n",
    "    from information_theory import information\n",
    "    #from information_theory import distortion"
   ]
  },
  {
   "cell_type": "code",
   "execution_count": null,
   "metadata": {},
   "outputs": [],
   "source": [
    "try:\n",
    "    import optical_flow as motion\n",
    "    import display\n",
    "    import prediction\n",
    "except:\n",
    "    !pip install \"motion_estimation @ git+https://github.com/vicente-gonzalez-ruiz/motion_estimation\"\n",
    "    from motion_estimation import optical_flow as motion\n",
    "    from motion_estimation import display\n",
    "    from motion_estimation import prediction"
   ]
  },
  {
   "cell_type": "code",
   "execution_count": null,
   "metadata": {},
   "outputs": [],
   "source": [
    "%%bash\n",
    "if [ -d \"$HOME/repos\" ]; then\n",
    "    echo \"\\\"$HOME/repos\\\" exists\"\n",
    "else\n",
    "    mkdir ~/repos\n",
    "    echo Created $HOME/repos\n",
    "fi"
   ]
  },
  {
   "cell_type": "code",
   "execution_count": null,
   "metadata": {},
   "outputs": [],
   "source": [
    "%%bash\n",
    "if [ -d \"$HOME/repos/image_synthesis\" ]; then\n",
    "    cd $HOME/repos/image_synthesis\n",
    "    echo \"$HOME/repos/image_synthesis ... \"\n",
    "    git pull \n",
    "else\n",
    "    cd $HOME/repos\n",
    "    git clone https://github.com/vicente-gonzalez-ruiz/image_synthesis.git\n",
    "fi"
   ]
  },
  {
   "cell_type": "markdown",
   "metadata": {},
   "source": [
    "## Farnebäck basis transform\n",
    "Farnebäck's algorithm does not compare pixels, but transform coefficients resulting of convolving the following basis fuctions. This decreases the computational requirements the algorithm."
   ]
  },
  {
   "cell_type": "markdown",
   "metadata": {},
   "source": [
    "### No motion"
   ]
  },
  {
   "cell_type": "code",
   "execution_count": null,
   "metadata": {},
   "outputs": [],
   "source": [
    "from mpl_toolkits.mplot3d import axes3d\n",
    "import matplotlib.pyplot as plt\n",
    "from matplotlib import cm\n",
    "import numpy as np\n",
    "\n",
    "fig = plt.figure()\n",
    "ax3d = fig.add_subplot(111, projection='3d')\n",
    "\n",
    "# Make the X, Y meshgrid instead of np.tile\n",
    "xs = np.linspace(-100, 100, 200)\n",
    "ys = np.linspace(-100, 100, 200)\n",
    "tau, phi = np.meshgrid(xs, ys) \n",
    "# Z evaluation\n",
    "amp = np.sin(tau)**2+np.cos(tau)**2+0.005\n",
    "ax3d.set_xlabel(r'$x$')  # tau = omega*t -> adimensional time\n",
    "ax3d.set_ylabel(r'$y$')  # phi -> phase\n",
    "ax3d.set_zlabel(r'$z$')   # signal amplitude\n",
    "ax3d.set_title(r'1')   # signal amplitude\n",
    "\n",
    "surf = ax3d.plot_surface(tau, phi, amp,cmap=cm.inferno)\n",
    "#fig.colorbar(surf)"
   ]
  },
  {
   "cell_type": "markdown",
   "metadata": {},
   "source": [
    "### Constant motion in the X direction"
   ]
  },
  {
   "cell_type": "code",
   "execution_count": null,
   "metadata": {},
   "outputs": [],
   "source": [
    "from mpl_toolkits.mplot3d import axes3d\n",
    "import matplotlib.pyplot as plt\n",
    "from matplotlib import cm\n",
    "import numpy as np\n",
    "\n",
    "fig = plt.figure()\n",
    "ax3d = fig.add_subplot(111, projection='3d')\n",
    "\n",
    "# Make the X, Y meshgrid instead of np.tile\n",
    "xs = np.linspace(-100, 100, 200)\n",
    "ys = np.linspace(-100, 100, 200)\n",
    "tau, phi = np.meshgrid(xs, ys) \n",
    "# Z evaluation\n",
    "amp = phi\n",
    "\n",
    "ax3d.set_xlabel(r'$x$')  # tau = omega*t -> adimensional time\n",
    "ax3d.set_ylabel(r'$y$')  # phi -> phase\n",
    "ax3d.set_zlabel(r'$z$')   # signal amplitude\n",
    "ax3d.set_title(r'$y$')   # signal amplitude\n",
    "\n",
    "surf = ax3d.plot_surface(tau, phi, amp, cmap=cm.inferno)\n",
    "#fig.colorbar(surf)"
   ]
  },
  {
   "cell_type": "markdown",
   "metadata": {},
   "source": [
    "### Constant motion in the Y direction"
   ]
  },
  {
   "cell_type": "code",
   "execution_count": null,
   "metadata": {},
   "outputs": [],
   "source": [
    "from mpl_toolkits.mplot3d import axes3d\n",
    "import matplotlib.pyplot as plt\n",
    "from matplotlib import cm\n",
    "import numpy as np\n",
    "\n",
    "fig = plt.figure()\n",
    "ax3d = fig.add_subplot(111, projection='3d')\n",
    "\n",
    "# Make the X, Y meshgrid instead of np.tile\n",
    "xs = np.linspace(-100, 100, 200)\n",
    "ys = np.linspace(-100, 100, 200)\n",
    "tau, phi = np.meshgrid(xs, ys) \n",
    "# Z evaluation\n",
    "amp = tau\n",
    "\n",
    "ax3d.set_xlabel(r'$x$')  # tau = omega*t -> adimensional time\n",
    "ax3d.set_ylabel(r'$y$')  # phi -> phase\n",
    "ax3d.set_zlabel(r'$z$')   # signal amplitude\n",
    "ax3d.set_title(r'$x$')   # signal amplitude\n",
    "\n",
    "surf = ax3d.plot_surface(tau, phi, amp,cmap=cm.inferno)\n",
    "#fig.colorbar(surf)"
   ]
  },
  {
   "cell_type": "markdown",
   "metadata": {},
   "source": [
    "### Contant motion in both directions (at the same time)"
   ]
  },
  {
   "cell_type": "code",
   "execution_count": null,
   "metadata": {},
   "outputs": [],
   "source": [
    "from mpl_toolkits.mplot3d import axes3d\n",
    "import matplotlib.pyplot as plt\n",
    "from matplotlib import cm\n",
    "import numpy as np\n",
    "\n",
    "fig = plt.figure()\n",
    "ax3d = fig.add_subplot(111, projection='3d')\n",
    "\n",
    "# Make the X, Y meshgrid instead of np.tile\n",
    "xs = np.linspace(-100, 100, 200)\n",
    "ys = np.linspace(-100, 100, 200)\n",
    "tau, phi = np.meshgrid(xs, ys) \n",
    "# Z evaluation\n",
    "amp = tau*phi\n",
    "\n",
    "ax3d.set_xlabel(r'$x$')  # tau = omega*t -> adimensional time\n",
    "ax3d.set_ylabel(r'$y$')  # phi -> phase\n",
    "ax3d.set_zlabel(r'$z$')   # signal amplitude\n",
    "ax3d.set_title(r'$xy$')   # signal amplitude\n",
    "\n",
    "surf = ax3d.plot_surface(tau, phi, amp,cmap=cm.inferno)\n",
    "#fig.colorbar(surf)"
   ]
  },
  {
   "cell_type": "markdown",
   "metadata": {},
   "source": [
    "### Constant acceleration in the Y direction"
   ]
  },
  {
   "cell_type": "code",
   "execution_count": null,
   "metadata": {},
   "outputs": [],
   "source": [
    "from mpl_toolkits.mplot3d import axes3d\n",
    "import matplotlib.pyplot as plt\n",
    "from matplotlib import cm\n",
    "import numpy as np\n",
    "\n",
    "fig = plt.figure()\n",
    "ax3d = fig.add_subplot(111, projection='3d')\n",
    "\n",
    "# Make the X, Y meshgrid instead of np.tile\n",
    "xs = np.linspace(-100, 100, 200)\n",
    "ys = np.linspace(-100, 100, 200)\n",
    "tau, phi = np.meshgrid(xs, ys) \n",
    "# Z evaluation\n",
    "amp = tau*tau\n",
    "\n",
    "ax3d.set_xlabel(r'$x$')  # tau = omega*t -> adimensional time\n",
    "ax3d.set_ylabel(r'$y$')  # phi -> phase\n",
    "ax3d.set_zlabel(r'$z$')   # signal amplitude\n",
    "ax3d.set_title(r'$x^2$')   # signal amplitude\n",
    "\n",
    "surf = ax3d.plot_surface(tau, phi, amp,cmap=cm.inferno)\n",
    "#fig.colorbar(surf)"
   ]
  },
  {
   "cell_type": "markdown",
   "metadata": {},
   "source": [
    "### Constant acceleration in the X direction"
   ]
  },
  {
   "cell_type": "code",
   "execution_count": null,
   "metadata": {},
   "outputs": [],
   "source": [
    "from mpl_toolkits.mplot3d import axes3d\n",
    "import matplotlib.pyplot as plt\n",
    "from matplotlib import cm\n",
    "import numpy as np\n",
    "\n",
    "fig = plt.figure()\n",
    "ax3d = fig.add_subplot(111, projection='3d')\n",
    "\n",
    "# Make the X, Y meshgrid instead of np.tile\n",
    "xs = np.linspace(-100, 100, 200)\n",
    "ys = np.linspace(-100, 100, 200)\n",
    "tau, phi = np.meshgrid(xs, ys) \n",
    "# Z evaluation\n",
    "amp = phi*phi\n",
    "\n",
    "ax3d.set_xlabel(r'$x$')  # tau = omega*t -> adimensional time\n",
    "ax3d.set_ylabel(r'$y$')  # phi -> phase\n",
    "ax3d.set_zlabel(r'$z$')   # signal amplitude\n",
    "ax3d.set_title(r'$y^2$')   # signal amplitude\n",
    "\n",
    "surf = ax3d.plot_surface(tau, phi, amp,cmap=cm.inferno)\n",
    "#fig.colorbar(surf)"
   ]
  },
  {
   "cell_type": "markdown",
   "metadata": {},
   "source": [
    "## Create a moving-circles sequence\n",
    "There are two circles, moving horizontally in oposite directions."
   ]
  },
  {
   "cell_type": "code",
   "execution_count": null,
   "metadata": {},
   "outputs": [],
   "source": [
    "%%bash\n",
    "frames=5\n",
    "~/repos/image_synthesis/moving_circle.sh -o /tmp/right -x 32 -y 16 -w 64 -h 32 -f $frames -d 10\n",
    "~/repos/image_synthesis/moving_circle.sh -o /tmp/left -x 32 -y 16 -w 64 -h 32 -f $frames -d 10 -a 0 -b -1\n",
    "set -x\n",
    "i=0\n",
    "while [ $i -le $((frames-1)) ]\n",
    "do\n",
    "    ii=$(printf \"%03d\" $i)\n",
    "    convert -append /tmp/right${ii}.png /tmp/left${ii}.png /tmp/${ii}.png\n",
    "    i=$(( $i + 1 ))\n",
    "done\n",
    "set -x"
   ]
  },
  {
   "cell_type": "markdown",
   "metadata": {},
   "source": [
    "## Testing with moving circles (max_abs_motion=1)"
   ]
  },
  {
   "cell_type": "code",
   "execution_count": null,
   "metadata": {},
   "outputs": [],
   "source": [
    "R = RGB_image.read(\"/tmp/000.png\")\n",
    "P = RGB_image.read(\"/tmp/001.png\")\n",
    "R_Y = YUV.from_RGB(R.astype(np.int16))[...,0]\n",
    "P_Y = YUV.from_RGB(P.astype(np.int16))[...,0]"
   ]
  },
  {
   "cell_type": "code",
   "execution_count": null,
   "metadata": {},
   "outputs": [],
   "source": [
    "gray_image.show(R_Y, \"Reference\")"
   ]
  },
  {
   "cell_type": "code",
   "execution_count": null,
   "metadata": {
    "scrolled": true
   },
   "outputs": [],
   "source": [
    "gray_image.show(P_Y, \"Predicted\")"
   ]
  },
  {
   "cell_type": "markdown",
   "metadata": {},
   "source": [
    "The top circle moves to the right and the bottom circle moves to the left. Therefore, if we want to generate the predicted frame (bottom) from the reference one (top), all the top MVs (Motion Vectors) related to the circle should be (x=1, y=0), and all the bottom MVs (-1, 0)."
   ]
  },
  {
   "cell_type": "code",
   "execution_count": null,
   "metadata": {},
   "outputs": [],
   "source": [
    "initial_MVs = np.zeros((P_Y.shape[0], P_Y.shape[1], 2), dtype=np.float32)\n",
    "MVs = motion.Farneback_ME(predicted=P_Y, reference=R_Y, initial_MVs=initial_MVs)"
   ]
  },
  {
   "cell_type": "code",
   "execution_count": null,
   "metadata": {},
   "outputs": [],
   "source": [
    "display.show_vectors(MVs[::1, ::1])"
   ]
  },
  {
   "cell_type": "code",
   "execution_count": null,
   "metadata": {},
   "outputs": [],
   "source": [
    "hat_P = prediction.make(reference=R, MVs=MVs)"
   ]
  },
  {
   "cell_type": "code",
   "execution_count": null,
   "metadata": {},
   "outputs": [],
   "source": [
    "print(R.dtype, MVs.dtype)"
   ]
  },
  {
   "cell_type": "code",
   "execution_count": null,
   "metadata": {
    "scrolled": false
   },
   "outputs": [],
   "source": [
    "RGB_image.show(R, \"reference ${\\mathbf R}$\")\n",
    "RGB_image.show(hat_P, \"prediction $\\hat{\\mathbf P}$\")\n",
    "RGB_image.show((P - hat_P + 128).astype(np.uint8), \"prediction error ($P-\\hat{P}$)\")"
   ]
  },
  {
   "cell_type": "markdown",
   "metadata": {},
   "source": [
    "## Testing with moving circles (max_abs_motion=2)"
   ]
  },
  {
   "cell_type": "code",
   "execution_count": null,
   "metadata": {},
   "outputs": [],
   "source": [
    "R = RGB_image.read(\"/tmp/000.png\")\n",
    "P = RGB_image.read(\"/tmp/002.png\")\n",
    "R_Y = YUV.from_RGB(R.astype(np.int16))[...,0]\n",
    "P_Y = YUV.from_RGB(P.astype(np.int16))[...,0]"
   ]
  },
  {
   "cell_type": "code",
   "execution_count": null,
   "metadata": {},
   "outputs": [],
   "source": [
    "gray_image.show(R_Y, \"reference ${\\mathbf R}$\")\n",
    "gray_image.show(P_Y, \"predicted ${\\mathbf P}$\")"
   ]
  },
  {
   "cell_type": "code",
   "execution_count": null,
   "metadata": {},
   "outputs": [],
   "source": [
    "initial_MVs = np.zeros((P_Y.shape[0], P_Y.shape[1], 2), dtype=np.float32)\n",
    "MVs = motion.Farneback_ME(predicted=P_Y, reference=R_Y, initial_MVs=initial_MVs)"
   ]
  },
  {
   "cell_type": "code",
   "execution_count": null,
   "metadata": {},
   "outputs": [],
   "source": [
    "display.show_vectors(MVs[::1, ::1])"
   ]
  },
  {
   "cell_type": "code",
   "execution_count": null,
   "metadata": {},
   "outputs": [],
   "source": [
    "hat_P = prediction.make(R, MVs)\n",
    "RGB_image.show(hat_P, \"prediction $\\hat{\\mathbf P}$\")\n",
    "RGB_image.show((P - hat_P + 128).astype(np.uint8), \"prediction error ($P-\\hat{P}$)\")"
   ]
  },
  {
   "cell_type": "markdown",
   "metadata": {},
   "source": [
    "## Even more distance"
   ]
  },
  {
   "cell_type": "code",
   "execution_count": null,
   "metadata": {},
   "outputs": [],
   "source": [
    "R = RGB_image.read(\"/tmp/000.png\")\n",
    "P = RGB_image.read(\"/tmp/004.png\")\n",
    "R_Y = YUV.from_RGB(R.astype(np.int16))[...,0]\n",
    "P_Y = YUV.from_RGB(P.astype(np.int16))[...,0]"
   ]
  },
  {
   "cell_type": "code",
   "execution_count": null,
   "metadata": {},
   "outputs": [],
   "source": [
    "gray_image.show(R, \"reference ${\\mathbf R}$\")\n",
    "gray_image.show(P, \"predicted ${\\mathbf P}$\")"
   ]
  },
  {
   "cell_type": "code",
   "execution_count": null,
   "metadata": {},
   "outputs": [],
   "source": [
    "initial_MVs = np.zeros((P_Y.shape[0], P_Y.shape[1], 2), dtype=np.float32)\n",
    "MVs = motion.Farneback_ME(predicted=P_Y, reference=R_Y, initial_MVs=initial_MVs)"
   ]
  },
  {
   "cell_type": "code",
   "execution_count": null,
   "metadata": {
    "scrolled": true
   },
   "outputs": [],
   "source": [
    "display.show_vectors(MVs[::1, ::1])"
   ]
  },
  {
   "cell_type": "code",
   "execution_count": null,
   "metadata": {},
   "outputs": [],
   "source": [
    "hat_P = prediction.make(R, MVs)\n",
    "RGB_image.show(hat_P, \"prediction $\\hat{\\mathbf P}$\")\n",
    "RGB_image.show((P - hat_P + 128).astype(np.uint8), \"prediction error ($P-\\hat{P}$)\")"
   ]
  },
  {
   "cell_type": "markdown",
   "metadata": {},
   "source": [
    "### Conclusion\n",
    "Farnebäck's ME does not always minimizes the L$_2$ distance."
   ]
  },
  {
   "cell_type": "markdown",
   "metadata": {},
   "source": [
    "## Tile of Stockholm"
   ]
  },
  {
   "cell_type": "code",
   "execution_count": null,
   "metadata": {},
   "outputs": [],
   "source": [
    "%%bash\n",
    "URL=\"https://hpca.ual.es/~vruiz/videos/\"\n",
    "sequence=\"stockholm_1280x768x50x420x578.avi\"\n",
    "output_prefix=\"/tmp/original_\"\n",
    "number_of_frames=16\n",
    "first_frame=2\n",
    "~/repos/image_synthesis/extract_frames.sh -u $URL -s $sequence -o $output_prefix -n $number_of_frames -f $first_frame"
   ]
  },
  {
   "cell_type": "code",
   "execution_count": null,
   "metadata": {},
   "outputs": [],
   "source": [
    "slice_Y = slice(100,356)\n",
    "slice_X = slice(100,612)\n",
    "sequence = \"/tmp/original_\"\n",
    "R = RGB_image.read(sequence + \"003.png\")[slice_Y, slice_X]\n",
    "P = RGB_image.read(sequence + \"004.png\")[slice_Y, slice_X]"
   ]
  },
  {
   "cell_type": "code",
   "execution_count": null,
   "metadata": {},
   "outputs": [],
   "source": [
    "R_Y = YUV.from_RGB(R.astype(np.int16))[...,0]\n",
    "P_Y = YUV.from_RGB(P.astype(np.int16))[...,0]"
   ]
  },
  {
   "cell_type": "code",
   "execution_count": null,
   "metadata": {},
   "outputs": [],
   "source": [
    "initial_MVs = np.zeros((P_Y.shape[0], P_Y.shape[1], 2), dtype=np.float32)\n",
    "MVs = motion.Farneback_ME(predicted=P_Y, reference=R_Y, initial_MVs=initial_MVs)"
   ]
  },
  {
   "cell_type": "code",
   "execution_count": null,
   "metadata": {},
   "outputs": [],
   "source": [
    "MVs.dtype"
   ]
  },
  {
   "cell_type": "code",
   "execution_count": null,
   "metadata": {},
   "outputs": [],
   "source": [
    "entropy = information.entropy(MVs.flatten())\n",
    "display.show_vectors(MVs[::10, ::10], title=\"${\\mathbf V}$ (Farnebäck) \" + f\"entropy={entropy:1.2f} bits/component\" + f\", {MVs.shape[0]}x{MVs.shape[1]} vectors\")"
   ]
  },
  {
   "cell_type": "code",
   "execution_count": null,
   "metadata": {},
   "outputs": [],
   "source": [
    "hat_P = prediction.make(R, MVs)\n",
    "RGB_image.show(hat_P, \"$\\hat{\\mathbf P}$ (Farnebäck)\")\n",
    "P_hat_P = P - hat_P + 128\n",
    "entropy = information.entropy(P_hat_P.flatten())\n",
    "RGB_image.show(P_hat_P.astype(np.uint8), \"${\\mathbf P}$ - $\\hat{\\mathbf P}$ (Farnebäck)\" + f\" entropy={entropy:1.2f} bits/pixel\")"
   ]
  },
  {
   "cell_type": "markdown",
   "metadata": {},
   "source": [
    "Notice that Farneback provides subpixel accuracy."
   ]
  },
  {
   "cell_type": "markdown",
   "metadata": {},
   "source": [
    "## Working with lines\n",
    "Farneback requires at least 2 lines."
   ]
  },
  {
   "cell_type": "code",
   "execution_count": null,
   "metadata": {},
   "outputs": [],
   "source": [
    "R = RGB_image.read(sequence + \"003.png\")[100:356,100:102]\n",
    "P = RGB_image.read(sequence + \"003.png\")[100:356,102:104]"
   ]
  },
  {
   "cell_type": "code",
   "execution_count": null,
   "metadata": {},
   "outputs": [],
   "source": [
    "R.shape"
   ]
  },
  {
   "cell_type": "code",
   "execution_count": null,
   "metadata": {},
   "outputs": [],
   "source": [
    "R_Y = YUV.from_RGB(R.astype(np.int16))[...,0]\n",
    "P_Y = YUV.from_RGB(P.astype(np.int16))[...,0]"
   ]
  },
  {
   "cell_type": "code",
   "execution_count": null,
   "metadata": {},
   "outputs": [],
   "source": [
    "initial_MVs = np.zeros((P_Y.shape[0], P_Y.shape[1], 2), dtype=np.float32)\n",
    "MVs = motion.Farneback_ME(predicted=P_Y, reference=R_Y, initial_MVs=initial_MVs)"
   ]
  },
  {
   "cell_type": "code",
   "execution_count": null,
   "metadata": {},
   "outputs": [],
   "source": []
  }
 ],
 "metadata": {
  "kernelspec": {
   "display_name": "Python 3 (ipykernel)",
   "language": "python",
   "name": "python3"
  },
  "language_info": {
   "codemirror_mode": {
    "name": "ipython",
    "version": 3
   },
   "file_extension": ".py",
   "mimetype": "text/x-python",
   "name": "python",
   "nbconvert_exporter": "python",
   "pygments_lexer": "ipython3",
   "version": "3.10.8"
  }
 },
 "nbformat": 4,
 "nbformat_minor": 4
}
