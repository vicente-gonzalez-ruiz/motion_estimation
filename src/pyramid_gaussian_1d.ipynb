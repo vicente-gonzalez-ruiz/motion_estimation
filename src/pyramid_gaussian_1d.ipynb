{
 "cells": [
  {
   "cell_type": "markdown",
   "id": "5523f111-ba78-405a-a874-0436c5632ba1",
   "metadata": {},
   "source": [
    "# Test of the 1D pyramid Gaussian"
   ]
  },
  {
   "cell_type": "code",
   "execution_count": null,
   "id": "d7162aab-6d13-4f67-b585-78160df25a1d",
   "metadata": {},
   "outputs": [],
   "source": [
    "import numpy as np\n",
    "from scipy.stats import norm\n",
    "import matplotlib.pyplot as plt"
   ]
  },
  {
   "cell_type": "code",
   "execution_count": null,
   "id": "89d479ad-b530-4763-9129-559d13674583",
   "metadata": {},
   "outputs": [],
   "source": [
    "import motion_estimation._1D.pyramid_gaussian as pyramid"
   ]
  },
  {
   "cell_type": "code",
   "execution_count": null,
   "id": "e14286e8-899f-4d2a-8197-d01894614ba9",
   "metadata": {},
   "outputs": [],
   "source": [
    "def gaussian_1d(x, mean, std_dev):\n",
    "    return norm.pdf(x, loc=mean, scale=std_dev)\n",
    "\n",
    "# Example usage:\n",
    "mean = 0\n",
    "std_dev = 1\n",
    "x_values = np.linspace(-5, 5, 100)\n",
    "gaussian_values = gaussian_1d(x_values, mean, std_dev)"
   ]
  },
  {
   "cell_type": "code",
   "execution_count": null,
   "id": "6f22f22b-fe9d-4732-900d-89545b2e2db0",
   "metadata": {},
   "outputs": [],
   "source": [
    "plt.plot(x_values, gaussian_values, label=f'Mean={mean}, Std Dev={std_dev}')\n",
    "plt.xlabel('X')\n",
    "plt.ylabel('Probability Density')\n",
    "plt.legend()\n",
    "plt.show()"
   ]
  },
  {
   "cell_type": "code",
   "execution_count": null,
   "id": "4d3b13f9-9c3c-490f-bcf5-91b21dfd204f",
   "metadata": {},
   "outputs": [],
   "source": [
    "p = []\n",
    "for c,i in enumerate(tuple(pyramid.get_pyramid(signal=gaussian_values, num_levels=4, sigma=1.0))):\n",
    "    print(i.shape)\n",
    "    p.append(i)\n",
    "    plt.plot(i, label=f\"{c}\")\n",
    "    plt.legend()"
   ]
  },
  {
   "cell_type": "code",
   "execution_count": null,
   "id": "95ddd7b6-14df-4bdf-88fd-568adc88a3df",
   "metadata": {},
   "outputs": [],
   "source": [
    "p[1].shape"
   ]
  },
  {
   "cell_type": "code",
   "execution_count": null,
   "id": "52d99342-0774-4f15-aa77-a1d47262b883",
   "metadata": {},
   "outputs": [],
   "source": [
    "x = pyramid.expand_level(p[1])"
   ]
  },
  {
   "cell_type": "code",
   "execution_count": null,
   "id": "1850d0d0-fdcf-4994-8488-7e737743b75e",
   "metadata": {},
   "outputs": [],
   "source": [
    "x.shape"
   ]
  },
  {
   "cell_type": "code",
   "execution_count": null,
   "id": "38d75e0b-f91a-4d1b-a24c-f03e2f785aee",
   "metadata": {},
   "outputs": [],
   "source": [
    "plt.plot(p[1])\n",
    "plt.plot(x)"
   ]
  }
 ],
 "metadata": {
  "kernelspec": {
   "display_name": "Python 3 (ipykernel)",
   "language": "python",
   "name": "python3"
  },
  "language_info": {
   "codemirror_mode": {
    "name": "ipython",
    "version": 3
   },
   "file_extension": ".py",
   "mimetype": "text/x-python",
   "name": "python",
   "nbconvert_exporter": "python",
   "pygments_lexer": "ipython3",
   "version": "3.10.12"
  }
 },
 "nbformat": 4,
 "nbformat_minor": 5
}
